{
 "cells": [
  {
   "cell_type": "markdown",
   "metadata": {},
   "source": [
    "1.What is Python, and why is it popular?\n",
    "ANS:-\n",
    "     Python is a high level programming language.It's primarily known for it's readability and simplicity.It's also\n",
    "popular for large number of library.Python has almost 1,37,000 libraries.\n",
    "\n",
    "2.What is an interpreter in Python?\n",
    "Ans:-\n",
    "     Python compile code line by line and convert code into machine code so machine can understand code.It's like bridge between human and machine code.\n",
    "\n",
    "3.What are pre-defined keywords in Python?\n",
    "Ans:-\n",
    "     Pre-define keywords means that reserve word that have special and only one meaning that cannot use for variable name,fuction name,class name etc.for example:-for,false,true,and etc...\n",
    "\n",
    "4.Can keywords be used as variable names?\n",
    "Ans:-\n",
    "     No,keywords cannot be use as a variable name because keywords has it's special meaning.\n",
    "\n",
    "5.What is mutability in Python?\n",
    "Ans:-\n",
    "     Mutability means,you can change value after the variable or object created.It can be modify in place.\n",
    "     Example:-List,Dictionaries,etc...\n",
    "\n",
    "6.Why are lists mutable, but tuples are immutable?\n",
    "Ans:-\n",
    "     Mutable means,value can be change after creation and Immutable means you can not change value after creation.In tuple you can not change the value of tuple so that's why tuple is immutable.\n",
    "\n",
    "7.What is the difference between “==” and “is” operators in Python?\n",
    "Ans:-\n",
    "     Bot are comparison operators but == is a equality operator that used for comparison which compare content of object in other side 'is' is a identity operator that only check memory addresses of the objects.\n",
    "\n",
    "8.What are logical operators in Python?\n",
    "Ans:-\n",
    "     Logiacal operator are used to combine or negate boolean expressions.They are useful for making decision in python programming.\n",
    "\n",
    "9.what is type casting in python?\n",
    "Ans:-\n",
    "     type casting is a process of changing data type of value or object like you can change int data type value in string data type value.It's also known as type conversion.\n",
    "\n",
    "10.what is the difference  between implicit and explicit type casting?\n",
    "Ans:-\n",
    "1)Implicit type casting:-\n",
    "       Python interpreter automatically converts one data  type to another without using any other function or code that's called implicit type casting.\n",
    "\n",
    "2)explicit type casting:-\n",
    "       The programmer explicitly uses built-in function to convert data from one type to another.\n",
    "                          \n",
    "11.What is the purpose of conditional statements in Python?\n",
    "Ans:-\n",
    "     Conditional statements in Python are used to control the flow of execution in your code based on specific conditions. They allow your program to make decisions and perform different actions depending on whether certain conditions are true or false.\n",
    "\n",
    "12.How does the elif statement work?\n",
    "Ans:-\n",
    "     The elif statement is useed for check multiple conditions sequentially if first condition gone false then it will check second condition/statement.\n",
    "\n",
    "13.What is the difference between for and while loops?\n",
    "Ans:-     \n",
    "     For loop used to interate or iterate over a sequence of elements like list,tuple,string,etc...\n",
    "\n",
    "     While loop used to repeatedly execute a block of code as long as a given condition remains true. \n",
    "     \n",
    "14.Describe a scenario where a while loop is more suitable than a for loop.\n",
    "Ans:-\n",
    "     while True:\n",
    "    age_input = input(\"Please enter your age: \")\n",
    "    if age_input.isdigit():  # Check if the input consists of only digits\n",
    "        age = int(age_input)\n",
    "        if age > 0:\n",
    "            print(f\"Your age is {age}.\")\n",
    "            break  # Exit the loop if the age is valid\n",
    "        else:\n",
    "            print(\"Age must be a positive number.\")\n",
    "    else:\n",
    "        print(\"Invalid input. Please enter a number.\")     \n",
    "\n",
    "Explain:-\n",
    "         While loop is suitable because of unknown number of iterations and repetitive input.       \n"
   ]
  },
  {
   "cell_type": "code",
   "execution_count": null,
   "metadata": {},
   "outputs": [],
   "source": [
    "#1.Write a Python program to print \"Hello, World!\"\n",
    "\n",
    "print(\"Hello,World!\")"
   ]
  },
  {
   "cell_type": "code",
   "execution_count": null,
   "metadata": {},
   "outputs": [],
   "source": [
    "#2. Write a Python program that displays your name and age.\n",
    "name=\"Dhruvil Mehta\"\n",
    "age=20\n",
    "\n",
    "print(f'my name is {name} and my age is {age}')"
   ]
  },
  {
   "cell_type": "code",
   "execution_count": null,
   "metadata": {},
   "outputs": [],
   "source": [
    "#3. Write code to print all the pre-defined keywords in Python using the keyword library\n",
    "#first we have to import keyword library to get full list of keywords\n",
    "\n",
    "import keyword\n",
    "\n",
    "get_all_keyword=keyword.kwlist\n",
    "\n",
    "#print the list of pre define keyworc list we have to use loop\n",
    "for keywordss in get_all_keyword:\n",
    "    print(keywordss)#this loop print keywords until get_all_keywords have list\n"
   ]
  },
  {
   "cell_type": "code",
   "execution_count": null,
   "metadata": {},
   "outputs": [],
   "source": [
    "#4.Write a program that checks if a given word is a Python keyword\n",
    "import keyword\n",
    "\n",
    "all_keyword=keyword.kwlist\n",
    "value=input(\"enter any word :\")\n",
    "\n",
    "for ke in all_keyword:\n",
    "    if ke==value:\n",
    "        print(\"Given word is pre define so please enter another word.\")\n",
    "        break #loop will end if word is pre define \n",
    "    else:\n",
    "        print(\"Given word is not pre define.\")\n",
    "        break\n",
    "\n"
   ]
  },
  {
   "cell_type": "code",
   "execution_count": null,
   "metadata": {},
   "outputs": [],
   "source": [
    "#5.Create a list and tuple in Python, and demonstrate how attempting to change an element works differently \n",
    "#for each.\n",
    "\n",
    "my_list=[10,28,30]\n",
    "my_tuple=(15,25,35)\n",
    "\n",
    "print(\"original list:\",my_list)\n",
    "my_list[2]=78\n",
    "print(\"modify list:\",my_list)\n",
    "\n",
    "print(\"original tuple:\",my_tuple)\n",
    "my_tuple[1]=65\n",
    "print(\"modify tuple:\",my_tuple)#It will give TypeError because tuple can not be modify \n",
    "\n"
   ]
  },
  {
   "cell_type": "code",
   "execution_count": 4,
   "metadata": {},
   "outputs": [
    {
     "name": "stdout",
     "output_type": "stream",
     "text": [
      "Before function call: [1, 2, 3]\n",
      "Inside the function: [1, 2, 3, 4]\n",
      "After function call: [1, 2, 3, 4]\n",
      "Before function call: 42\n",
      "Inside the function: 43\n",
      "After function call: 42\n"
     ]
    }
   ],
   "source": [
    "#6.Write a function to demonstrate the behavior of mutable and immutable arguments\n",
    "def modify_mutable(lst):\n",
    "    \n",
    "    # Modify the list by appending a new element\n",
    "    lst.append(4)\n",
    "    print(\"Inside the function:\", lst)\n",
    "\n",
    "def modify_immutable(num):\n",
    "    \n",
    "    # Attempt to modify the number (will not work)\n",
    "    num = num + 1\n",
    "    print(\"Inside the function:\", num)\n",
    "\n",
    "# Test with mutable argument (list)\n",
    "my_list = [1, 2, 3]\n",
    "print(\"Before function call:\", my_list)\n",
    "modify_mutable(my_list)\n",
    "print(\"After function call:\", my_list)\n",
    "\n",
    "# Test with immutable argument (integer)\n",
    "a = 42\n",
    "print(\"Before function call:\", a)\n",
    "modify_immutable(a)\n",
    "print(\"After function call:\", a)\n",
    "\n",
    "\n"
   ]
  },
  {
   "cell_type": "code",
   "execution_count": null,
   "metadata": {},
   "outputs": [],
   "source": [
    "#7.Write a function to demonstrate the behavior of mutable and immutable arguments\n",
    "def modify_mutable(lst):\n",
    "    \n",
    "    # Modify the list by appending a new element\n",
    "    lst.append(4)\n",
    "    print(\"Inside the function:\", lst)\n",
    "\n",
    "def modify_immutable(num):\n",
    "    \n",
    "    # Attempt to modify the number (will not work)\n",
    "    num = num + 1\n",
    "    print(\"Inside the function:\", num)\n",
    "\n",
    "# Test with mutable argument (list)\n",
    "my_list = [1, 2, 3]\n",
    "print(\"Before function call:\", my_list)\n",
    "modify_mutable(my_list)\n",
    "print(\"After function call:\", my_list)\n",
    "\n",
    "# Test with immutable argument (integer)\n",
    "a = 42\n",
    "print(\"Before function call:\", a)\n",
    "modify_immutable(a)\n",
    "print(\"After function call:\", a)"
   ]
  },
  {
   "cell_type": "code",
   "execution_count": null,
   "metadata": {},
   "outputs": [],
   "source": [
    "#8. Write a program to demonstrate the use of logical operators.\n",
    "age = 25\n",
    "has_license = True\n",
    "is_registered = False\n",
    "\n",
    "# Use of AND operator\n",
    "if age >= 18 and has_license:\n",
    "    print(\"You are eligible to drive.\")\n",
    "\n",
    "# Use of OR operator\n",
    "if is_registered or has_license:\n",
    "    print(\"You are allowed to enter the event.\")\n",
    "\n",
    "# Use of NOT operator\n",
    "if age >= 18 and has_license and not is_registered:\n",
    "    print(\"You are eligible to drive and not registered.\")"
   ]
  },
  {
   "cell_type": "code",
   "execution_count": 6,
   "metadata": {},
   "outputs": [
    {
     "name": "stdout",
     "output_type": "stream",
     "text": [
      "integer number:  25\n",
      "float number:  25.0\n",
      "boolean check:  True\n"
     ]
    }
   ],
   "source": [
    "#9.write a python program to convert user input from string to integer,float and boolean types.\n",
    "var1=input(\"enter any number: \")\n",
    "var2=int(var1)\n",
    "val3=float(var1)\n",
    "val4=bool(var1)\n",
    "\n",
    "print(\"integer number: \",var2)\n",
    "print(\"float number: \",val3)\n",
    "print(\"boolean check: \",val4)\n",
    "\n",
    "\n"
   ]
  },
  {
   "cell_type": "code",
   "execution_count": 1,
   "metadata": {},
   "outputs": [
    {
     "name": "stdout",
     "output_type": "stream",
     "text": [
      "Integers: [1, 2, 3, 'four', 1]\n",
      "Floats: [1.0, 2.5, 3.0, 'four', 1.0]\n",
      "Strings: ['1', '2.5', '3', 'four', 'True']\n"
     ]
    }
   ],
   "source": [
    "#10. write code to demonstrate type casting with list elements.\n",
    "def type_casting_list_elements(my_list, target_type):\n",
    "  \n",
    "  new_list = []\n",
    "  for element in my_list:\n",
    "    try:\n",
    "      casted_element = target_type(element)\n",
    "      new_list.append(casted_element)\n",
    "    except (ValueError, TypeError):\n",
    "      # Handle potential errors during type casting\n",
    "      new_list.append(element) \n",
    "  return new_list\n",
    "\n",
    "\n",
    "my_list = [1, 2.5, \"3\", \"four\", True]\n",
    "\n",
    "# Cast all elements to integers\n",
    "int_list = type_casting_list_elements(my_list, int)\n",
    "print(\"Integers:\", int_list) \n",
    "\n",
    "# Cast all elements to floats\n",
    "float_list = type_casting_list_elements(my_list, float)\n",
    "print(\"Floats:\", float_list)\n",
    "\n",
    "# Cast all elements to strings\n",
    "str_list = type_casting_list_elements(my_list, str)\n",
    "print(\"Strings:\", str_list)"
   ]
  },
  {
   "cell_type": "code",
   "execution_count": null,
   "metadata": {},
   "outputs": [],
   "source": [
    "#11.Write a program that checks if a number is positive, negative, or zero\n",
    "number=int(input(\"enter number: \")) #take input from user\n",
    "if number>0:                        #check condition    \n",
    "    print(\"number is positive.\")\n",
    "\n",
    "elif number<0:                      #if first condition gone then this will be check\n",
    "    print(\"number is negative\")    \n",
    "\n",
    "else:\n",
    "    print(\"number is zero\")\n",
    "\n",
    "    "
   ]
  },
  {
   "cell_type": "code",
   "execution_count": 3,
   "metadata": {},
   "outputs": [
    {
     "name": "stdout",
     "output_type": "stream",
     "text": [
      "1\n",
      "2\n",
      "3\n",
      "4\n",
      "5\n",
      "6\n",
      "7\n",
      "8\n",
      "9\n",
      "10\n"
     ]
    }
   ],
   "source": [
    "#12.Write a for loop to print numbers from 1 to 10\n",
    "\n",
    "for i in range(1,11):\n",
    "    print(i)   "
   ]
  },
  {
   "cell_type": "code",
   "execution_count": 11,
   "metadata": {},
   "outputs": [
    {
     "name": "stdout",
     "output_type": "stream",
     "text": [
      "650\n"
     ]
    }
   ],
   "source": [
    "#13.Write a Python program to find the sum of all even numbers between 1 and 50\n",
    "\n",
    "a=0   #initial variable to store value of sum\n",
    "for i in range(0,51,2):\n",
    "    a=a+i\n",
    "print(a)"
   ]
  },
  {
   "cell_type": "code",
   "execution_count": 7,
   "metadata": {},
   "outputs": [
    {
     "name": "stdout",
     "output_type": "stream",
     "text": [
      "7\n",
      "llikswp\n"
     ]
    }
   ],
   "source": [
    "#14.Write a program to reverse a string using a while loop\n",
    " \n",
    "word=\"pwskill\"\n",
    "lent=len(word)\n",
    "size=lent-1\n",
    "print(lent)\n",
    "revers_word=\"\"\n",
    "while size>=0:\n",
    "    revers_word=revers_word+word[size]\n",
    "    size -=1\n",
    "print(revers_word)\n"
   ]
  },
  {
   "cell_type": "code",
   "execution_count": 14,
   "metadata": {},
   "outputs": [
    {
     "name": "stdout",
     "output_type": "stream",
     "text": [
      "120\n"
     ]
    }
   ],
   "source": [
    "#15.Write a Python program to calculate the factorial of a number provided by the user using a while loop.\n",
    "num=int(input(\"enter any number whose factorial you want to:\"))\n",
    "fact=1\n",
    "while num>0:\n",
    "    fact =fact*num\n",
    "    num -=1\n",
    "print(fact)"
   ]
  },
  {
   "cell_type": "code",
   "execution_count": null,
   "metadata": {},
   "outputs": [],
   "source": []
  }
 ],
 "metadata": {
  "kernelspec": {
   "display_name": "Python 3",
   "language": "python",
   "name": "python3"
  },
  "language_info": {
   "codemirror_mode": {
    "name": "ipython",
    "version": 3
   },
   "file_extension": ".py",
   "mimetype": "text/x-python",
   "name": "python",
   "nbconvert_exporter": "python",
   "pygments_lexer": "ipython3",
   "version": "3.12.4"
  }
 },
 "nbformat": 4,
 "nbformat_minor": 2
}
